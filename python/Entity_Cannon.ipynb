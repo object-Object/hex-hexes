{
 "cells": [
  {
   "cell_type": "code",
   "execution_count": null,
   "metadata": {},
   "outputs": [],
   "source": [
    "import sympy\n",
    "from sympy import Eq, log"
   ]
  },
  {
   "cell_type": "code",
   "execution_count": 2,
   "metadata": {},
   "outputs": [],
   "source": [
    "sympy.init_printing(use_latex=\"mathjax\")"
   ]
  },
  {
   "cell_type": "code",
   "execution_count": null,
   "metadata": {},
   "outputs": [],
   "source": [
    "x,y,d_x,d_y,g,t,k,v_x,v_y = sympy.symbols(\"x,y,d_x,d_y,g,t,k,v_x,v_y\")"
   ]
  },
  {
   "cell_type": "markdown",
   "metadata": {},
   "source": [
    "---"
   ]
  },
  {
   "cell_type": "code",
   "execution_count": 5,
   "metadata": {},
   "outputs": [
    {
     "data": {
      "text/latex": [
       "$\\displaystyle - g k t + \\frac{- g t + \\frac{\\left(1 - \\left(1 - d_{y}\\right)^{t}\\right) \\left(d_{y} v_{y} + g\\right)}{d_{y}}}{d_{y}}$"
      ],
      "text/plain": [
       "                ⎛             t⎞              \n",
       "                ⎝1 - (1 - d_y) ⎠⋅(d_y⋅v_y + g)\n",
       "         -g⋅t + ──────────────────────────────\n",
       "                             d_y              \n",
       "-g⋅k⋅t + ─────────────────────────────────────\n",
       "                          d_y                 "
      ]
     },
     "execution_count": 5,
     "metadata": {},
     "output_type": "execute_result"
    }
   ],
   "source": [
    "y_t = ((v_y * d_y + g) * (1 - (1 - d_y) ** t) / d_y - g * t) / d_y - k * g * t\n",
    "y_t"
   ]
  },
  {
   "cell_type": "code",
   "execution_count": 6,
   "metadata": {},
   "outputs": [
    {
     "data": {
      "text/latex": [
       "$\\displaystyle \\frac{\\log{\\left(- \\frac{d_{x} x}{v_{x}} + 1 \\right)}}{\\log{\\left(1 - d_{x} \\right)}}$"
      ],
      "text/plain": [
       "   ⎛  dₓ⋅x    ⎞\n",
       "log⎜- ──── + 1⎟\n",
       "   ⎝   vₓ     ⎠\n",
       "───────────────\n",
       "  log(1 - dₓ)  "
      ]
     },
     "execution_count": 6,
     "metadata": {},
     "output_type": "execute_result"
    }
   ],
   "source": [
    "t_x = log(1 - (d_x * x) / v_x) / log(1 - d_x)\n",
    "t_x"
   ]
  },
  {
   "cell_type": "code",
   "execution_count": 7,
   "metadata": {},
   "outputs": [
    {
     "data": {
      "text/latex": [
       "$\\displaystyle - \\frac{g k \\log{\\left(- \\frac{d_{x} x}{v_{x}} + 1 \\right)}}{\\log{\\left(1 - d_{x} \\right)}} + \\frac{- \\frac{g \\log{\\left(- \\frac{d_{x} x}{v_{x}} + 1 \\right)}}{\\log{\\left(1 - d_{x} \\right)}} + \\frac{\\left(1 - \\left(1 - d_{y}\\right)^{\\frac{\\log{\\left(- \\frac{d_{x} x}{v_{x}} + 1 \\right)}}{\\log{\\left(1 - d_{x} \\right)}}}\\right) \\left(d_{y} v_{y} + g\\right)}{d_{y}}}{d_{y}}$"
      ],
      "text/plain": [
       "                                              ⎛                ⎛  dₓ⋅x    ⎞⎞   ↪\n",
       "                                              ⎜             log⎜- ──── + 1⎟⎟   ↪\n",
       "                                              ⎜                ⎝   vₓ     ⎠⎟   ↪\n",
       "                               ⎛  dₓ⋅x    ⎞   ⎜             ───────────────⎟   ↪\n",
       "                          g⋅log⎜- ──── + 1⎟   ⎜               log(1 - dₓ)  ⎟   ↪\n",
       "         ⎛  dₓ⋅x    ⎞          ⎝   vₓ     ⎠   ⎝1 - (1 - d_y)               ⎠⋅( ↪\n",
       "  g⋅k⋅log⎜- ──── + 1⎟   - ───────────────── + ──────────────────────────────── ↪\n",
       "         ⎝   vₓ     ⎠        log(1 - dₓ)                          d_y          ↪\n",
       "- ─────────────────── + ────────────────────────────────────────────────────── ↪\n",
       "      log(1 - dₓ)                                      d_y                     ↪\n",
       "\n",
       "↪             \n",
       "↪             \n",
       "↪             \n",
       "↪             \n",
       "↪             \n",
       "↪ d_y⋅v_y + g)\n",
       "↪ ────────────\n",
       "↪             \n",
       "↪ ────────────\n",
       "↪             "
      ]
     },
     "execution_count": 7,
     "metadata": {},
     "output_type": "execute_result"
    }
   ],
   "source": [
    "y_x = y_t.subs(t, t_x)\n",
    "y_x"
   ]
  },
  {
   "cell_type": "code",
   "execution_count": null,
   "metadata": {},
   "outputs": [
    {
     "data": {
      "text/latex": [
       "$\\displaystyle \\frac{\\frac{d_{y} \\left(- d_{y} \\left(\\frac{g k \\log{\\left(- \\frac{d_{x} x}{v_{x}} + 1 \\right)}}{\\log{\\left(1 - d_{x} \\right)}} + y\\right) - \\frac{g \\log{\\left(- \\frac{d_{x} x}{v_{x}} + 1 \\right)}}{\\log{\\left(1 - d_{x} \\right)}}\\right)}{\\left(1 - d_{y}\\right)^{\\frac{\\log{\\left(- \\frac{d_{x} x}{v_{x}} + 1 \\right)}}{\\log{\\left(1 - d_{x} \\right)}}} - 1} - g}{d_{y}}$"
      ],
      "text/plain": [
       "    ⎛      ⎛       ⎛  dₓ⋅x    ⎞    ⎞        ⎛  dₓ⋅x    ⎞⎞    \n",
       "    ⎜      ⎜g⋅k⋅log⎜- ──── + 1⎟    ⎟   g⋅log⎜- ──── + 1⎟⎟    \n",
       "    ⎜      ⎜       ⎝   vₓ     ⎠    ⎟        ⎝   vₓ     ⎠⎟    \n",
       "d_y⋅⎜- d_y⋅⎜─────────────────── + y⎟ - ─────────────────⎟    \n",
       "    ⎝      ⎝    log(1 - dₓ)        ⎠      log(1 - dₓ)   ⎠    \n",
       "───────────────────────────────────────────────────────── - g\n",
       "                          ⎛  dₓ⋅x    ⎞                       \n",
       "                       log⎜- ──── + 1⎟                       \n",
       "                          ⎝   vₓ     ⎠                       \n",
       "                       ───────────────                       \n",
       "                         log(1 - dₓ)                         \n",
       "              (1 - d_y)                - 1                   \n",
       "─────────────────────────────────────────────────────────────\n",
       "                             d_y                             "
      ]
     },
     "execution_count": 8,
     "metadata": {},
     "output_type": "execute_result"
    }
   ],
   "source": [
    "vy_vx, *_ = sympy.solveset(Eq(y, y_x), v_y)  # type: ignore\n",
    "vy_vx"
   ]
  },
  {
   "cell_type": "code",
   "execution_count": 9,
   "metadata": {},
   "outputs": [
    {
     "data": {
      "text/latex": [
       "$\\displaystyle \\frac{- d_{y} \\left(d_{y} \\left(g k \\log{\\left(\\frac{- d_{x} x + v_{x}}{v_{x}} \\right)} + y \\log{\\left(1 - d_{x} \\right)}\\right) + g \\log{\\left(\\frac{- d_{x} x + v_{x}}{v_{x}} \\right)}\\right) - g \\left(\\left(1 - d_{y}\\right)^{\\frac{\\log{\\left(\\frac{- d_{x} x + v_{x}}{v_{x}} \\right)}}{\\log{\\left(1 - d_{x} \\right)}}} - 1\\right) \\log{\\left(1 - d_{x} \\right)}}{d_{y} \\left(\\left(1 - d_{y}\\right)^{\\frac{\\log{\\left(\\frac{- d_{x} x + v_{x}}{v_{x}} \\right)}}{\\log{\\left(1 - d_{x} \\right)}}} - 1\\right) \\log{\\left(1 - d_{x} \\right)}}$"
      ],
      "text/plain": [
       "                                                                          ⎛    ↪\n",
       "                                                                          ⎜    ↪\n",
       "                                                                          ⎜    ↪\n",
       "                                                                          ⎜    ↪\n",
       "      ⎛    ⎛       ⎛-dₓ⋅x + vₓ⎞                ⎞        ⎛-dₓ⋅x + vₓ⎞⎞     ⎜    ↪\n",
       "- d_y⋅⎜d_y⋅⎜g⋅k⋅log⎜──────────⎟ + y⋅log(1 - dₓ)⎟ + g⋅log⎜──────────⎟⎟ - g⋅⎝(1  ↪\n",
       "      ⎝    ⎝       ⎝    vₓ    ⎠                ⎠        ⎝    vₓ    ⎠⎠          ↪\n",
       "────────────────────────────────────────────────────────────────────────────── ↪\n",
       "                                       ⎛            ⎛-dₓ⋅x + vₓ⎞    ⎞          ↪\n",
       "                                       ⎜         log⎜──────────⎟    ⎟          ↪\n",
       "                                       ⎜            ⎝    vₓ    ⎠    ⎟          ↪\n",
       "                                       ⎜         ───────────────    ⎟          ↪\n",
       "                                       ⎜           log(1 - dₓ)      ⎟          ↪\n",
       "                                   d_y⋅⎝(1 - d_y)                - 1⎠⋅log(1 -  ↪\n",
       "\n",
       "↪          ⎛-dₓ⋅x + vₓ⎞    ⎞            \n",
       "↪       log⎜──────────⎟    ⎟            \n",
       "↪          ⎝    vₓ    ⎠    ⎟            \n",
       "↪       ───────────────    ⎟            \n",
       "↪         log(1 - dₓ)      ⎟            \n",
       "↪ - d_y)                - 1⎠⋅log(1 - dₓ)\n",
       "↪                                       \n",
       "↪ ──────────────────────────────────────\n",
       "↪                                       \n",
       "↪                                       \n",
       "↪                                       \n",
       "↪                                       \n",
       "↪                                       \n",
       "↪ dₓ)                                   "
      ]
     },
     "execution_count": 9,
     "metadata": {},
     "output_type": "execute_result"
    }
   ],
   "source": [
    "vy_vx.simplify()"
   ]
  },
  {
   "cell_type": "code",
   "execution_count": 10,
   "metadata": {},
   "outputs": [
    {
     "data": {
      "text/latex": [
       "$\\displaystyle \\frac{\\frac{d_{y} \\left(- d_{y} \\left(g k t + y\\right) - g t\\right)}{\\left(1 - d_{y}\\right)^{t} - 1} - g}{d_{y}}$"
      ],
      "text/plain": [
       "d_y⋅(-d_y⋅(g⋅k⋅t + y) - g⋅t)    \n",
       "──────────────────────────── - g\n",
       "                t               \n",
       "       (1 - d_y)  - 1           \n",
       "────────────────────────────────\n",
       "              d_y               "
      ]
     },
     "execution_count": 10,
     "metadata": {},
     "output_type": "execute_result"
    }
   ],
   "source": [
    "vy_vx.subs(t_x, t)"
   ]
  },
  {
   "cell_type": "code",
   "execution_count": 11,
   "metadata": {},
   "outputs": [
    {
     "data": {
      "text/latex": [
       "$\\displaystyle \\frac{- d_{y} \\left(d_{y} \\left(g k t + y\\right) + g t\\right) - g \\left(\\left(1 - d_{y}\\right)^{t} - 1\\right)}{d_{y} \\left(\\left(1 - d_{y}\\right)^{t} - 1\\right)}$"
      ],
      "text/plain": [
       "                                 ⎛         t    ⎞\n",
       "-d_y⋅(d_y⋅(g⋅k⋅t + y) + g⋅t) - g⋅⎝(1 - d_y)  - 1⎠\n",
       "─────────────────────────────────────────────────\n",
       "                  ⎛         t    ⎞               \n",
       "              d_y⋅⎝(1 - d_y)  - 1⎠               "
      ]
     },
     "execution_count": 11,
     "metadata": {},
     "output_type": "execute_result"
    }
   ],
   "source": [
    "vy_vx.subs(t_x, t).simplify()"
   ]
  }
 ],
 "metadata": {
  "kernelspec": {
   "display_name": ".venv",
   "language": "python",
   "name": "python3"
  },
  "language_info": {
   "codemirror_mode": {
    "name": "ipython",
    "version": 3
   },
   "file_extension": ".py",
   "mimetype": "text/x-python",
   "name": "python",
   "nbconvert_exporter": "python",
   "pygments_lexer": "ipython3",
   "version": "3.13.1"
  }
 },
 "nbformat": 4,
 "nbformat_minor": 2
}
