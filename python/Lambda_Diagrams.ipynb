{
 "cells": [
  {
   "cell_type": "code",
   "execution_count": 20,
   "metadata": {},
   "outputs": [],
   "source": [
    "from __future__ import annotations\n",
    "\n",
    "from typing import LiteralString\n",
    "from dataclasses import dataclass"
   ]
  },
  {
   "cell_type": "code",
   "execution_count": 21,
   "metadata": {},
   "outputs": [],
   "source": [
    "type World = list[str] | list[LiteralString]\n",
    "\n",
    "@dataclass\n",
    "class Vec2:\n",
    "    x: int\n",
    "    y: int\n",
    "\n",
    "    def is_solid(self, world: World):\n",
    "        if not (0 <= self.y < len(world)):\n",
    "            return False\n",
    "        row = world[self.y]\n",
    "        if not (0 <= self.x < len(row)):\n",
    "            return False\n",
    "        return row[self.x] == \"#\"\n",
    "\n",
    "    def __neg__(self):\n",
    "        return Vec2(-self.x, -self.y)\n",
    "\n",
    "    def __add__(self, other: Vec2):\n",
    "        return Vec2(self.x + other.x, self.y + other.y)\n",
    "    \n",
    "    def __sub__(self, other: Vec2):\n",
    "        return self + -other\n",
    "    \n",
    "    def __eq__(self, other: object):\n",
    "        return isinstance(other, Vec2) and (self.x, self.y) == (other.x, other.y)\n",
    "\n",
    "    def __hash__(self):\n",
    "        return hash((self.x, self.y))"
   ]
  },
  {
   "cell_type": "code",
   "execution_count": 25,
   "metadata": {},
   "outputs": [],
   "source": [
    "diagram = \"\"\"\n",
    "###################\n",
    "         #\n",
    "####### ###########\n",
    " #   #   #   #   #\n",
    " #####   #   #####\n",
    " #       #   #\n",
    " #       #####\n",
    " #       #\n",
    " #########\n",
    " #\n",
    " #\n",
    "\"\"\".strip().splitlines()"
   ]
  },
  {
   "cell_type": "code",
   "execution_count": 29,
   "metadata": {},
   "outputs": [
    {
     "data": {
      "text/plain": [
       "76"
      ]
     },
     "execution_count": 29,
     "metadata": {},
     "output_type": "execute_result"
    }
   ],
   "source": [
    "len([c for row in diagram for c in row if c == \"#\"])"
   ]
  },
  {
   "cell_type": "code",
   "execution_count": 28,
   "metadata": {},
   "outputs": [
    {
     "data": {
      "text/plain": [
       "76"
      ]
     },
     "execution_count": 28,
     "metadata": {},
     "output_type": "execute_result"
    }
   ],
   "source": [
    "queue = [Vec2(0, 0)]\n",
    "visited = set(queue)\n",
    "\n",
    "while queue:\n",
    "    pos = queue.pop(0)\n",
    "    for offset in [Vec2(-1, 0), Vec2(1, 0), Vec2(0, -2), Vec2(0, -1), Vec2(0, 1), Vec2(0, 2)]:\n",
    "        new_pos = pos + offset\n",
    "        if new_pos.is_solid(diagram) and new_pos not in visited:\n",
    "            visited.add(new_pos)\n",
    "            queue.append(new_pos)\n",
    "\n",
    "len(visited)"
   ]
  },
  {
   "cell_type": "code",
   "execution_count": 32,
   "metadata": {},
   "outputs": [
    {
     "data": {
      "text/plain": [
       "{Vec2(x=0, y=2): 0,\n",
       " Vec2(x=1, y=2): 0,\n",
       " Vec2(x=2, y=2): 0,\n",
       " Vec2(x=3, y=2): 0,\n",
       " Vec2(x=4, y=2): 0,\n",
       " Vec2(x=5, y=2): 0,\n",
       " Vec2(x=6, y=2): 0,\n",
       " Vec2(x=8, y=2): 1,\n",
       " Vec2(x=9, y=2): 1,\n",
       " Vec2(x=10, y=2): 1,\n",
       " Vec2(x=11, y=2): 1,\n",
       " Vec2(x=12, y=2): 1,\n",
       " Vec2(x=13, y=2): 1,\n",
       " Vec2(x=14, y=2): 1,\n",
       " Vec2(x=15, y=2): 1,\n",
       " Vec2(x=16, y=2): 1,\n",
       " Vec2(x=17, y=2): 1,\n",
       " Vec2(x=18, y=2): 1,\n",
       " Vec2(x=0, y=0): 2,\n",
       " Vec2(x=1, y=0): 2,\n",
       " Vec2(x=2, y=0): 2,\n",
       " Vec2(x=3, y=0): 2,\n",
       " Vec2(x=4, y=0): 2,\n",
       " Vec2(x=5, y=0): 2,\n",
       " Vec2(x=6, y=0): 2,\n",
       " Vec2(x=7, y=0): 2,\n",
       " Vec2(x=8, y=0): 2,\n",
       " Vec2(x=9, y=0): 2,\n",
       " Vec2(x=10, y=0): 2,\n",
       " Vec2(x=11, y=0): 2,\n",
       " Vec2(x=12, y=0): 2,\n",
       " Vec2(x=13, y=0): 2,\n",
       " Vec2(x=14, y=0): 2,\n",
       " Vec2(x=15, y=0): 2,\n",
       " Vec2(x=16, y=0): 2,\n",
       " Vec2(x=17, y=0): 2,\n",
       " Vec2(x=18, y=0): 2}"
      ]
     },
     "execution_count": 32,
     "metadata": {},
     "output_type": "execute_result"
    }
   ],
   "source": [
    "abstrs = dict[Vec2, int]()\n",
    "next_abstr_id = 0\n",
    "\n",
    "for pos in visited:\n",
    "    if pos.is_solid(diagram) and all(\n",
    "        not (pos + offset).is_solid(diagram)\n",
    "        for offset in [Vec2(-1, 0), Vec2(0, -1), Vec2(0, 1)]\n",
    "    ):\n",
    "        abstr_id = next_abstr_id\n",
    "        next_abstr_id += 1\n",
    "\n",
    "        abstr_pos = pos\n",
    "        while abstr_pos.is_solid(diagram):\n",
    "            abstrs[abstr_pos] = abstr_id\n",
    "            abstr_pos += Vec2(1, 0)\n",
    "\n",
    "abstrs"
   ]
  }
 ],
 "metadata": {
  "kernelspec": {
   "display_name": ".venv",
   "language": "python",
   "name": "python3"
  },
  "language_info": {
   "codemirror_mode": {
    "name": "ipython",
    "version": 3
   },
   "file_extension": ".py",
   "mimetype": "text/x-python",
   "name": "python",
   "nbconvert_exporter": "python",
   "pygments_lexer": "ipython3",
   "version": "3.13.1"
  }
 },
 "nbformat": 4,
 "nbformat_minor": 2
}
