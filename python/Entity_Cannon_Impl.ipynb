{
 "cells": [
  {
   "cell_type": "code",
   "execution_count": 3,
   "metadata": {},
   "outputs": [],
   "source": [
    "import math\n",
    "from typing import Callable"
   ]
  },
  {
   "cell_type": "code",
   "execution_count": null,
   "metadata": {},
   "outputs": [
    {
     "name": "stdout",
     "output_type": "stream",
     "text": [
      "1:\t9.01, 109.01\n",
      "2:\t9.01, 70.81339887498949\n",
      "3:\t9.01, 47.20660112501052\n",
      "4:\t9.01, 32.61679774997898\n",
      "5:\t9.01, 23.599803375031556\n",
      "6:\t9.01, 18.02699437494743\n",
      "7:\t9.01, 14.582809000084126\n",
      "8:\t9.01, 12.454185374863306\n",
      "9:\t9.01, 11.13862362522082\n",
      "10:\t9.01, 10.325561749642485\n",
      "11:\t9.01, 9.823061875578336\n",
      "12:\t9.01, 9.512499874064149\n",
      "13:\t9.01, 9.320562001514185\n",
      "14:\t9.01, 9.201937872549962\n",
      "15:\t9.08331374358574, 9.201937872549962\n",
      "16:\t9.08331374358574, 9.15662748717148\n",
      "17:\t9.08331374358574, 9.128624128964221\n",
      "18:\t9.100620770756963, 9.128624128964221\n",
      "19:\t9.111317101792997, 9.128624128964221\n",
      "20:\t9.111317101792997, 9.122013432829032\n"
     ]
    },
    {
     "data": {
      "text/plain": [
       "(9.118708084761437, 2.0409117939232475)"
      ]
     },
     "execution_count": 12,
     "metadata": {},
     "output_type": "execute_result"
    }
   ],
   "source": [
    "invphi = (math.sqrt(5) - 1) / 2  # 1 / phi\n",
    "\n",
    "def gss(\n",
    "    f: Callable[[float], float],\n",
    "    a: float,\n",
    "    b: float,\n",
    "    tolerance: float = 1e-5,\n",
    ") -> float:\n",
    "    \"\"\"https://en.wikipedia.org/wiki/Golden-section_search#Algorithm\"\"\"\n",
    "    n = 0\n",
    "    while b - a > tolerance:\n",
    "        n += 1\n",
    "        print(f\"{n}:\\t{a}, {b}\")\n",
    "        step = (b - a) * invphi\n",
    "        c = b - step\n",
    "        d = a + step\n",
    "        if f(c) < f(d):\n",
    "            b = d\n",
    "        else:\n",
    "            a = c\n",
    "\n",
    "    return (b + a) / 2\n",
    "\n",
    "def solve(\n",
    "    x: float,\n",
    "    y: float,\n",
    "    g: float,\n",
    "    d_x: float,\n",
    "    d_y: float,\n",
    "    k: float,  # 0 or 1\n",
    "    after: bool,\n",
    "    tolerance: float = 1e-5,\n",
    ") -> tuple[float, float]:\n",
    "    if after:\n",
    "        g *= 1 - d_y\n",
    "        k /= 1 - d_y\n",
    "\n",
    "    def vy_vx(v_x: float) -> float:\n",
    "        t = math.log(1 - d_x * x / v_x) / math.log(1 - d_x)\n",
    "        return -((g * t * (d_y * k + 1) + d_y * y) / ((1 - d_y) ** t - 1) + g / d_y)\n",
    "\n",
    "    def cost(v_x: float) -> float:\n",
    "        return math.sqrt(v_x**2 + vy_vx(v_x) ** 2)\n",
    "\n",
    "    asymptote = d_x * x\n",
    "\n",
    "    v_x = gss(\n",
    "        f=cost,\n",
    "        a=asymptote + tolerance,\n",
    "        b=asymptote + tolerance + max(10, x),\n",
    "        tolerance=tolerance,\n",
    "    )\n",
    "\n",
    "    return v_x, vy_vx(v_x)\n",
    "\n",
    "solve(\n",
    "    x=100,\n",
    "    y=0,\n",
    "    g=0.08,\n",
    "    d_x=0.09,\n",
    "    d_y=0.02,\n",
    "    k=0,\n",
    "    after=True,\n",
    "    tolerance=0.01,\n",
    ")"
   ]
  }
 ],
 "metadata": {
  "kernelspec": {
   "display_name": ".venv",
   "language": "python",
   "name": "python3"
  },
  "language_info": {
   "codemirror_mode": {
    "name": "ipython",
    "version": 3
   },
   "file_extension": ".py",
   "mimetype": "text/x-python",
   "name": "python",
   "nbconvert_exporter": "python",
   "pygments_lexer": "ipython3",
   "version": "3.13.1"
  }
 },
 "nbformat": 4,
 "nbformat_minor": 2
}
